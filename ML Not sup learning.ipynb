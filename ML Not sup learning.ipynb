{
 "cells": [
  {
   "cell_type": "markdown",
   "id": "b0073d59",
   "metadata": {},
   "source": [
    "Clustering jerarquico:\n",
    "-Utiles para comunicacion con audiencias no tecnicas.\n",
    "\n",
    "Podemos tener clustering aglomoratiovo o divisivo.\n"
   ]
  },
  {
   "cell_type": "code",
   "execution_count": null,
   "id": "9041551a",
   "metadata": {},
   "outputs": [],
   "source": [
    "import matplotlib.pyplot as plt\n",
    "from scipy.cluster.hierarchy import linkage , dendrogram\n",
    "mergings = linkage(samples ,method ='complete') # donde samples es un array de puntajes de canciones segun pais en eurovision\n",
    "dendrogram( mergings , labels=country_names , leaf_rotation=90 , leaf_font_size=6) \n",
    "plt.show()"
   ]
  },
  {
   "cell_type": "markdown",
   "id": "ba83641a",
   "metadata": {},
   "source": [
    "La clusterizacion jerarquica no se utiliza soo para visualizacion. Se puede utilizar como referencia haciendo \"cortes\" al dendograma, de creacion de clusters. A que altura del dendograma cortemos , indica \"que maxima distancia de las observaciones dentro de un cluster sera esa altura del corte\" . \n"
   ]
  },
  {
   "cell_type": "code",
   "execution_count": null,
   "id": "057833c3",
   "metadata": {},
   "outputs": [],
   "source": []
  }
 ],
 "metadata": {
  "kernelspec": {
   "display_name": "Python 3 (ipykernel)",
   "language": "python",
   "name": "python3"
  },
  "language_info": {
   "codemirror_mode": {
    "name": "ipython",
    "version": 3
   },
   "file_extension": ".py",
   "mimetype": "text/x-python",
   "name": "python",
   "nbconvert_exporter": "python",
   "pygments_lexer": "ipython3",
   "version": "3.9.12"
  }
 },
 "nbformat": 4,
 "nbformat_minor": 5
}
